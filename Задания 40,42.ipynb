{
 "cells": [
  {
   "cell_type": "code",
   "execution_count": 1,
   "id": "da376e81",
   "metadata": {},
   "outputs": [
    {
     "name": "stdout",
     "output_type": "stream",
     "text": [
      "       longitude  latitude  housingMedianAge  totalRooms  totalBedrooms  \\\n",
      "0        -114.31     34.19                15        5612           1283   \n",
      "1        -114.47     34.40                19        7650           1901   \n",
      "2        -114.56     33.69                17         720            174   \n",
      "3        -114.57     33.64                14        1501            337   \n",
      "4        -114.57     33.57                20        1454            326   \n",
      "...          ...       ...               ...         ...            ...   \n",
      "16995    -124.26     40.58                52        2217            394   \n",
      "16996    -124.27     40.69                36        2349            528   \n",
      "16997    -124.30     41.84                17        2677            531   \n",
      "16998    -124.30     41.80                19        2672            552   \n",
      "16999    -124.35     40.54                52        1820            300   \n",
      "\n",
      "       population  households  medianIncome  medianHouseValue  \n",
      "0            1015         472        1.4936             66900  \n",
      "1            1129         463        1.8200             80100  \n",
      "2             333         117        1.6509             85700  \n",
      "3             515         226        3.1917             73400  \n",
      "4             624         262        1.9250             65500  \n",
      "...           ...         ...           ...               ...  \n",
      "16995         907         369        2.3571            111400  \n",
      "16996        1194         465        2.5179             79000  \n",
      "16997        1244         456        3.0313            103600  \n",
      "16998        1298         478        1.9797             85800  \n",
      "16999         806         270        3.0147             94600  \n",
      "\n",
      "[17000 rows x 9 columns]\n"
     ]
    }
   ],
   "source": [
    "import pandas as pd\n",
    "path = \"C:\\Учеба\\Python/california_housing_train.csv\"\n",
    "df =pd.read_csv(path)\n",
    "print(df)\n",
    "\n"
   ]
  },
  {
   "cell_type": "code",
   "execution_count": 2,
   "id": "a5a8de40",
   "metadata": {},
   "outputs": [
    {
     "data": {
      "text/plain": [
       "(17000, 9)"
      ]
     },
     "execution_count": 2,
     "metadata": {},
     "output_type": "execute_result"
    }
   ],
   "source": [
    "df.shape"
   ]
  },
  {
   "cell_type": "code",
   "execution_count": 9,
   "id": "fc67bc69",
   "metadata": {},
   "outputs": [
    {
     "name": "stdout",
     "output_type": "stream",
     "text": [
      "       longitude  latitude  housingMedianAge  totalRooms  totalBedrooms  \\\n",
      "2        -114.56     33.69                17         720            174   \n",
      "7        -114.59     34.83                41         812            168   \n",
      "17       -114.65     32.79                21          44             33   \n",
      "19       -114.67     33.92                17          97             24   \n",
      "21       -114.73     33.43                24         796            243   \n",
      "...          ...       ...               ...         ...            ...   \n",
      "16944    -124.14     40.67                23         580            117   \n",
      "16951    -124.15     40.81                50         340             74   \n",
      "16969    -124.17     40.80                52         661            316   \n",
      "16982    -124.18     40.62                35         952            178   \n",
      "16994    -124.25     40.28                32        1430            419   \n",
      "\n",
      "       population  households  medianIncome  medianHouseValue  \n",
      "2             333         117        1.6509             85700  \n",
      "7             375         158        1.7083             48500  \n",
      "17             64          27        0.8571             25000  \n",
      "19             29          15        1.2656             27500  \n",
      "21            227         139        0.8964             59200  \n",
      "...           ...         ...           ...               ...  \n",
      "16944         320         109        4.2054            130600  \n",
      "16951         235          83        1.7500             67500  \n",
      "16969         392         244        0.9570             60000  \n",
      "16982         480         179        3.0536            107000  \n",
      "16994         434         187        1.9417             76100  \n",
      "\n",
      "[1601 rows x 9 columns]\n"
     ]
    }
   ],
   "source": [
    "population500=df[df['population'] < 500]\n",
    "print (population500)"
   ]
  },
  {
   "cell_type": "code",
   "execution_count": 12,
   "id": "4e2cd443",
   "metadata": {},
   "outputs": [
    {
     "name": "stdout",
     "output_type": "stream",
     "text": [
      "500001\n"
     ]
    }
   ],
   "source": [
    "print(population500['medianHouseValue'].mean())"
   ]
  },
  {
   "cell_type": "code",
   "execution_count": 22,
   "id": "2aeff391",
   "metadata": {},
   "outputs": [
    {
     "data": {
      "text/plain": [
       "3"
      ]
     },
     "execution_count": 22,
     "metadata": {},
     "output_type": "execute_result"
    }
   ],
   "source": [
    "df['population'].min()"
   ]
  },
  {
   "cell_type": "code",
   "execution_count": 25,
   "id": "4158d33e",
   "metadata": {},
   "outputs": [
    {
     "data": {
      "text/html": [
       "<div>\n",
       "<style scoped>\n",
       "    .dataframe tbody tr th:only-of-type {\n",
       "        vertical-align: middle;\n",
       "    }\n",
       "\n",
       "    .dataframe tbody tr th {\n",
       "        vertical-align: top;\n",
       "    }\n",
       "\n",
       "    .dataframe thead th {\n",
       "        text-align: right;\n",
       "    }\n",
       "</style>\n",
       "<table border=\"1\" class=\"dataframe\">\n",
       "  <thead>\n",
       "    <tr style=\"text-align: right;\">\n",
       "      <th></th>\n",
       "      <th>longitude</th>\n",
       "      <th>latitude</th>\n",
       "      <th>housingMedianAge</th>\n",
       "      <th>totalRooms</th>\n",
       "      <th>totalBedrooms</th>\n",
       "      <th>population</th>\n",
       "      <th>households</th>\n",
       "      <th>medianIncome</th>\n",
       "      <th>medianHouseValue</th>\n",
       "    </tr>\n",
       "  </thead>\n",
       "  <tbody>\n",
       "    <tr>\n",
       "      <th>8232</th>\n",
       "      <td>-118.44</td>\n",
       "      <td>34.04</td>\n",
       "      <td>16</td>\n",
       "      <td>18</td>\n",
       "      <td>6</td>\n",
       "      <td>3</td>\n",
       "      <td>4</td>\n",
       "      <td>0.536</td>\n",
       "      <td>350000</td>\n",
       "    </tr>\n",
       "  </tbody>\n",
       "</table>\n",
       "</div>"
      ],
      "text/plain": [
       "      longitude  latitude  housingMedianAge  totalRooms  totalBedrooms  \\\n",
       "8232    -118.44     34.04                16          18              6   \n",
       "\n",
       "      population  households  medianIncome  medianHouseValue  \n",
       "8232           3           4         0.536            350000  "
      ]
     },
     "execution_count": 25,
     "metadata": {},
     "output_type": "execute_result"
    }
   ],
   "source": [
    "df[df['population']==3]"
   ]
  },
  {
   "cell_type": "code",
   "execution_count": 24,
   "id": "ab5c591f",
   "metadata": {},
   "outputs": [
    {
     "name": "stdout",
     "output_type": "stream",
     "text": [
      "4\n"
     ]
    }
   ],
   "source": [
    "print(df[df['population']==3]['households'].max())"
   ]
  }
 ],
 "metadata": {
  "kernelspec": {
   "display_name": "Python 3 (ipykernel)",
   "language": "python",
   "name": "python3"
  },
  "language_info": {
   "codemirror_mode": {
    "name": "ipython",
    "version": 3
   },
   "file_extension": ".py",
   "mimetype": "text/x-python",
   "name": "python",
   "nbconvert_exporter": "python",
   "pygments_lexer": "ipython3",
   "version": "3.9.13"
  }
 },
 "nbformat": 4,
 "nbformat_minor": 5
}
